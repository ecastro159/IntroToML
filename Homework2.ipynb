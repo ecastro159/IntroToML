{
 "cells": [
  {
   "cell_type": "code",
   "execution_count": 1,
   "id": "7be321bd",
   "metadata": {},
   "outputs": [],
   "source": [
    "import numpy as np\n",
    "import pandas as pd\n",
    "import matplotlib.pyplot as plt "
   ]
  },
  {
   "cell_type": "code",
   "execution_count": 2,
   "id": "5b2a9d34",
   "metadata": {},
   "outputs": [
    {
     "data": {
      "text/html": [
       "<div>\n",
       "<style scoped>\n",
       "    .dataframe tbody tr th:only-of-type {\n",
       "        vertical-align: middle;\n",
       "    }\n",
       "\n",
       "    .dataframe tbody tr th {\n",
       "        vertical-align: top;\n",
       "    }\n",
       "\n",
       "    .dataframe thead th {\n",
       "        text-align: right;\n",
       "    }\n",
       "</style>\n",
       "<table border=\"1\" class=\"dataframe\">\n",
       "  <thead>\n",
       "    <tr style=\"text-align: right;\">\n",
       "      <th></th>\n",
       "      <th>Pregnancies</th>\n",
       "      <th>Glucose</th>\n",
       "      <th>BloodPressure</th>\n",
       "      <th>SkinThickness</th>\n",
       "      <th>Insulin</th>\n",
       "      <th>BMI</th>\n",
       "      <th>DiabetesPedigreeFunction</th>\n",
       "      <th>Age</th>\n",
       "      <th>Outcome</th>\n",
       "    </tr>\n",
       "  </thead>\n",
       "  <tbody>\n",
       "    <tr>\n",
       "      <th>0</th>\n",
       "      <td>6</td>\n",
       "      <td>148</td>\n",
       "      <td>72</td>\n",
       "      <td>35</td>\n",
       "      <td>0</td>\n",
       "      <td>33.6</td>\n",
       "      <td>0.627</td>\n",
       "      <td>50</td>\n",
       "      <td>1</td>\n",
       "    </tr>\n",
       "    <tr>\n",
       "      <th>1</th>\n",
       "      <td>1</td>\n",
       "      <td>85</td>\n",
       "      <td>66</td>\n",
       "      <td>29</td>\n",
       "      <td>0</td>\n",
       "      <td>26.6</td>\n",
       "      <td>0.351</td>\n",
       "      <td>31</td>\n",
       "      <td>0</td>\n",
       "    </tr>\n",
       "    <tr>\n",
       "      <th>2</th>\n",
       "      <td>8</td>\n",
       "      <td>183</td>\n",
       "      <td>64</td>\n",
       "      <td>0</td>\n",
       "      <td>0</td>\n",
       "      <td>23.3</td>\n",
       "      <td>0.672</td>\n",
       "      <td>32</td>\n",
       "      <td>1</td>\n",
       "    </tr>\n",
       "    <tr>\n",
       "      <th>3</th>\n",
       "      <td>1</td>\n",
       "      <td>89</td>\n",
       "      <td>66</td>\n",
       "      <td>23</td>\n",
       "      <td>94</td>\n",
       "      <td>28.1</td>\n",
       "      <td>0.167</td>\n",
       "      <td>21</td>\n",
       "      <td>0</td>\n",
       "    </tr>\n",
       "    <tr>\n",
       "      <th>4</th>\n",
       "      <td>0</td>\n",
       "      <td>137</td>\n",
       "      <td>40</td>\n",
       "      <td>35</td>\n",
       "      <td>168</td>\n",
       "      <td>43.1</td>\n",
       "      <td>2.288</td>\n",
       "      <td>33</td>\n",
       "      <td>1</td>\n",
       "    </tr>\n",
       "  </tbody>\n",
       "</table>\n",
       "</div>"
      ],
      "text/plain": [
       "   Pregnancies  Glucose  BloodPressure  SkinThickness  Insulin   BMI  \\\n",
       "0            6      148             72             35        0  33.6   \n",
       "1            1       85             66             29        0  26.6   \n",
       "2            8      183             64              0        0  23.3   \n",
       "3            1       89             66             23       94  28.1   \n",
       "4            0      137             40             35      168  43.1   \n",
       "\n",
       "   DiabetesPedigreeFunction  Age  Outcome  \n",
       "0                     0.627   50        1  \n",
       "1                     0.351   31        0  \n",
       "2                     0.672   32        1  \n",
       "3                     0.167   21        0  \n",
       "4                     2.288   33        1  "
      ]
     },
     "execution_count": 2,
     "metadata": {},
     "output_type": "execute_result"
    }
   ],
   "source": [
    "df = pd.read_csv(r'/home/erwin/Desktop/Intro to MC/diabetes.csv')\n",
    "df.head()"
   ]
  },
  {
   "cell_type": "markdown",
   "id": "8e4a3b0e",
   "metadata": {},
   "source": [
    "# Problem 1)\n",
    "* Outcome as the Dependent Variable Y \n",
    "* Other Variables as Independent Variable X"
   ]
  },
  {
   "cell_type": "code",
   "execution_count": 3,
   "id": "b1761d53",
   "metadata": {},
   "outputs": [],
   "source": [
    "X1 = df.iloc[:,[0,1,2,3,4,5,6,7]] \n",
    "Y = df.iloc[:, 8].values"
   ]
  },
  {
   "cell_type": "markdown",
   "id": "096e637e",
   "metadata": {},
   "source": [
    "###### 80% training, 20% Test"
   ]
  },
  {
   "cell_type": "code",
   "execution_count": 23,
   "id": "f375756c",
   "metadata": {},
   "outputs": [],
   "source": [
    "from sklearn.model_selection import train_test_split\n",
    "X_train, X_test, Y_train, Y_test = train_test_split(X1,Y,train_size=0.8) "
   ]
  },
  {
   "cell_type": "markdown",
   "id": "7a7cd91f",
   "metadata": {},
   "source": [
    "##### Feature Scaling\n",
    "* Standardize "
   ]
  },
  {
   "cell_type": "code",
   "execution_count": 5,
   "id": "d9982783",
   "metadata": {},
   "outputs": [],
   "source": [
    "from sklearn.preprocessing import StandardScaler\n",
    "sc_X = StandardScaler()\n",
    "X_train = sc_X.fit_transform(X_train)\n",
    "X_test = sc_X.transform(X_test)"
   ]
  },
  {
   "cell_type": "markdown",
   "id": "db6fb97d",
   "metadata": {},
   "source": [
    "##### Logistic Regression "
   ]
  },
  {
   "cell_type": "code",
   "execution_count": 6,
   "id": "8f7d30c3",
   "metadata": {},
   "outputs": [
    {
     "data": {
      "text/plain": [
       "LogisticRegression()"
      ]
     },
     "execution_count": 6,
     "metadata": {},
     "output_type": "execute_result"
    }
   ],
   "source": [
    "from sklearn.linear_model import LogisticRegression\n",
    "classifier = LogisticRegression()\n",
    "classifier.fit(X_train, Y_train)"
   ]
  },
  {
   "cell_type": "markdown",
   "id": "2d3c87b9",
   "metadata": {},
   "source": [
    "###### Predictions"
   ]
  },
  {
   "cell_type": "code",
   "execution_count": 7,
   "id": "8b7c08a1",
   "metadata": {},
   "outputs": [
    {
     "data": {
      "text/plain": [
       "array([0, 0, 1, 1, 1])"
      ]
     },
     "execution_count": 7,
     "metadata": {},
     "output_type": "execute_result"
    }
   ],
   "source": [
    "Y1_pred = classifier.predict(X_test)\n",
    "Y1_pred[0:5]"
   ]
  },
  {
   "cell_type": "code",
   "execution_count": 8,
   "id": "31318dfc",
   "metadata": {},
   "outputs": [],
   "source": [
    "from sklearn.metrics import confusion_matrix\n",
    "cnf_matrix = confusion_matrix(Y_test, Y1_pred)"
   ]
  },
  {
   "cell_type": "markdown",
   "id": "3e7dbba0",
   "metadata": {},
   "source": [
    "### Accuracy, Precision, Recall Problem 1\n",
    "* Question 1: Results for Accuracy, Precision, and Recall"
   ]
  },
  {
   "cell_type": "code",
   "execution_count": 9,
   "id": "dd5ece0a",
   "metadata": {
    "scrolled": true
   },
   "outputs": [
    {
     "name": "stdout",
     "output_type": "stream",
     "text": [
      "Accuracy:  0.7922077922077922\n",
      "Precision: 0.6976744186046512\n",
      "Recall: 0.6122448979591837\n"
     ]
    }
   ],
   "source": [
    "from sklearn import metrics\n",
    "# Accuracy of model \n",
    "print(\"Accuracy: \", metrics.accuracy_score(Y_test,Y1_pred))\n",
    "# Precision of model\n",
    "print(\"Precision:\", metrics.precision_score(Y_test,Y1_pred))\n",
    "# Precision of model\n",
    "print(\"Recall:\", metrics.recall_score(Y_test,Y1_pred))"
   ]
  },
  {
   "cell_type": "markdown",
   "id": "f1c5187b",
   "metadata": {},
   "source": [
    "### Confusion Matrix Problem 1"
   ]
  },
  {
   "cell_type": "code",
   "execution_count": 10,
   "id": "4ea9de48",
   "metadata": {},
   "outputs": [
    {
     "data": {
      "text/plain": [
       "Text(0.5, 257.44, 'Predicted label')"
      ]
     },
     "execution_count": 10,
     "metadata": {},
     "output_type": "execute_result"
    },
    {
     "data": {
      "image/png": "[encoded data removed]",
      "text/plain": [
       "<Figure size 432x288 with 2 Axes>"
      ]
     },
     "metadata": {
      "needs_background": "light"
     },
     "output_type": "display_data"
    }
   ],
   "source": [
    "import seaborn as sns\n",
    "class_names = [0,1]\n",
    "fig, ax = plt.subplots()\n",
    "tick_marks = np.arange(len(class_names))\n",
    "plt.xticks(tick_marks, class_names)\n",
    "plt.yticks(tick_marks, class_names)\n",
    "# Heatmap\n",
    "sns.heatmap(pd.DataFrame(cnf_matrix), annot=True, cmap=\"YlGnBu\", fmt='g')\n",
    "ax.xaxis.set_label_position(\"top\")\n",
    "plt.tight_layout()\n",
    "plt.title('Confusion matrix', y = 1.1)\n",
    "plt.ylabel('Actual label')\n",
    "plt.xlabel('Predicted label')"
   ]
  },
  {
   "cell_type": "markdown",
   "id": "1b5e835a",
   "metadata": {},
   "source": [
    "# Problem 2\n",
    "* GaussianNB "
   ]
  },
  {
   "cell_type": "code",
   "execution_count": 11,
   "id": "f3070285",
   "metadata": {},
   "outputs": [
    {
     "data": {
      "text/plain": [
       "GaussianNB()"
      ]
     },
     "execution_count": 11,
     "metadata": {},
     "output_type": "execute_result"
    }
   ],
   "source": [
    "from sklearn.naive_bayes import GaussianNB\n",
    "classifier = GaussianNB()\n",
    "classifier.fit(X_train, Y_train)"
   ]
  },
  {
   "cell_type": "code",
   "execution_count": 12,
   "id": "db6ff9cb",
   "metadata": {},
   "outputs": [],
   "source": [
    "Y2_pred = classifier.predict(X_test)"
   ]
  },
  {
   "cell_type": "code",
   "execution_count": 13,
   "id": "7f0ad4f5",
   "metadata": {},
   "outputs": [],
   "source": [
    "from sklearn.metrics import confusion_matrix, accuracy_score\n",
    "cnf_matrix = confusion_matrix(Y_test, Y2_pred)"
   ]
  },
  {
   "cell_type": "markdown",
   "id": "49271f9a",
   "metadata": {},
   "source": [
    "### Accuracy, Precision, Recall Problem 2\n",
    "* Question 1: Results for Accuracy, Precision, and Recall"
   ]
  },
  {
   "cell_type": "code",
   "execution_count": 14,
   "id": "8a442d60",
   "metadata": {},
   "outputs": [
    {
     "name": "stdout",
     "output_type": "stream",
     "text": [
      "Accuracy:  0.7987012987012987\n",
      "Precision: 0.6956521739130435\n",
      "Recall: 0.6530612244897959\n"
     ]
    }
   ],
   "source": [
    "from sklearn import metrics\n",
    "# Accuracy of model \n",
    "print(\"Accuracy: \", metrics.accuracy_score(Y_test,Y2_pred))\n",
    "# Precision of model\n",
    "print(\"Precision:\", metrics.precision_score(Y_test,Y2_pred))\n",
    "# Precision of model\n",
    "print(\"Recall:\", metrics.recall_score(Y_test,Y2_pred))"
   ]
  },
  {
   "cell_type": "markdown",
   "id": "87bf7eb9",
   "metadata": {},
   "source": [
    "## Confusion Matrix Problem 2 "
   ]
  },
  {
   "cell_type": "code",
   "execution_count": 15,
   "id": "b4a8ba11",
   "metadata": {},
   "outputs": [
    {
     "data": {
      "text/plain": [
       "Text(0.5, 257.44, 'Predicted label')"
      ]
     },
     "execution_count": 15,
     "metadata": {},
     "output_type": "execute_result"
    },
    {
     "data": {
      "image/png": "[encoded data removed]",
      "text/plain": [
       "<Figure size 432x288 with 2 Axes>"
      ]
     },
     "metadata": {
      "needs_background": "light"
     },
     "output_type": "display_data"
    }
   ],
   "source": [
    "import seaborn as sns\n",
    "class_names = [0,1]\n",
    "fig, ax = plt.subplots()\n",
    "tick_marks = np.arange(len(class_names))\n",
    "plt.xticks(tick_marks, class_names)\n",
    "plt.yticks(tick_marks, class_names)\n",
    "# Heatmap\n",
    "sns.heatmap(pd.DataFrame(cnf_matrix), annot=True, cmap=\"YlGnBu\", fmt='g')\n",
    "ax.xaxis.set_label_position(\"top\")\n",
    "plt.tight_layout()\n",
    "plt.title('Confusion matrix', y = 1.1)\n",
    "plt.ylabel('Actual label')\n",
    "plt.xlabel('Predicted label')"
   ]
  },
  {
   "cell_type": "markdown",
   "id": "c0b4cb5b",
   "metadata": {},
   "source": [
    "####  When comparing the results for problem 1 & 2 they yeld similar results in both the confusion matrix and accuracy"
   ]
  },
  {
   "cell_type": "markdown",
   "id": "060988d1",
   "metadata": {},
   "source": [
    "# Problem 3\n",
    "##### K-fold cross-validation for Logistic Regression"
   ]
  },
  {
   "cell_type": "code",
   "execution_count": 16,
   "id": "e60e925c",
   "metadata": {},
   "outputs": [
    {
     "data": {
      "text/plain": [
       "LogisticRegression()"
      ]
     },
     "execution_count": 16,
     "metadata": {},
     "output_type": "execute_result"
    }
   ],
   "source": [
    "from sklearn.linear_model import LogisticRegression\n",
    "classifier = LogisticRegression()\n",
    "classifier.fit(X_train, Y_train)"
   ]
  },
  {
   "cell_type": "markdown",
   "id": "7cc2089c",
   "metadata": {},
   "source": [
    "##### K-5"
   ]
  },
  {
   "cell_type": "markdown",
   "id": "0ec61f17",
   "metadata": {},
   "source": [
    "from sklearn.model_selection import cross_val_score \n",
    "scores = cross_val_score(classifier, X_train, Y_train,cv = 5)\n",
    "print(np.mean(scores))"
   ]
  },
  {
   "cell_type": "markdown",
   "id": "12610f10",
   "metadata": {},
   "source": [
    "##### K-10"
   ]
  },
  {
   "cell_type": "code",
   "execution_count": 18,
   "id": "5b3f9da9",
   "metadata": {},
   "outputs": [
    {
     "name": "stdout",
     "output_type": "stream",
     "text": [
      "0.7653886832363829\n"
     ]
    }
   ],
   "source": [
    "scores = cross_val_score(classifier, X_train, Y_train, cv = 10)\n",
    "print(np.mean(scores))"
   ]
  },
  {
   "cell_type": "markdown",
   "id": "f0325acd",
   "metadata": {},
   "source": [
    "The K-folds gives the you the accuracy of the model for each k-fold. In this case there was little between the k-fold evaluation and the accuracy from problem 1 are simiar  "
   ]
  },
  {
   "cell_type": "markdown",
   "id": "59240e07",
   "metadata": {},
   "source": [
    "# Problem 4"
   ]
  },
  {
   "cell_type": "code",
   "execution_count": 19,
   "id": "2799fe09",
   "metadata": {},
   "outputs": [
    {
     "data": {
      "text/plain": [
       "GaussianNB()"
      ]
     },
     "execution_count": 19,
     "metadata": {},
     "output_type": "execute_result"
    }
   ],
   "source": [
    "from sklearn.naive_bayes import GaussianNB\n",
    "classifier = GaussianNB()\n",
    "classifier.fit(X_train, Y_train)"
   ]
  },
  {
   "cell_type": "code",
   "execution_count": 20,
   "id": "fa85810e",
   "metadata": {},
   "outputs": [
    {
     "name": "stdout",
     "output_type": "stream",
     "text": [
      "0.7378248700519792\n"
     ]
    }
   ],
   "source": [
    "from sklearn.model_selection import cross_val_score \n",
    "scores = cross_val_score(classifier, X_train, Y_train,cv = 5)\n",
    "print(np.mean(scores))"
   ]
  },
  {
   "cell_type": "code",
   "execution_count": 21,
   "id": "d663c51c",
   "metadata": {},
   "outputs": [
    {
     "name": "stdout",
     "output_type": "stream",
     "text": [
      "0.742622950819672\n"
     ]
    }
   ],
   "source": [
    "scores = cross_val_score(classifier, X_train, Y_train, cv = 10)\n",
    "print(np.mean(scores))"
   ]
  },
  {
   "cell_type": "markdown",
   "id": "fa31dbbd",
   "metadata": {},
   "source": [
    "Since Naive Bayes uses probability and no actual training, it makes no since to use K-folds  "
   ]
  },
  {
   "cell_type": "code",
   "execution_count": null,
   "id": "1aad744e",
   "metadata": {},
   "outputs": [],
   "source": []
  }
 ],
 "metadata": {
  "kernelspec": {
   "display_name": "Python 3",
   "language": "python",
   "name": "python3"
  },
  "language_info": {
   "codemirror_mode": {
    "name": "ipython",
    "version": 3
   },
   "file_extension": ".py",
   "mimetype": "text/x-python",
   "name": "python",
   "nbconvert_exporter": "python",
   "pygments_lexer": "ipython3",
   "version": "3.8.8"
  }
 },
 "nbformat": 4,
 "nbformat_minor": 5
}
