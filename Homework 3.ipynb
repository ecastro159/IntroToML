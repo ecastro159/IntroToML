{
 "cells": [
  {
   "cell_type": "code",
   "execution_count": 1,
   "id": "3da36bb0",
   "metadata": {},
   "outputs": [],
   "source": [
    "import numpy as np\n",
    "import matplotlib.pyplot as plt \n",
    "import pandas as pd\n",
    "from sklearn.datasets import load_breast_cancer"
   ]
  },
  {
   "cell_type": "code",
   "execution_count": 2,
   "id": "91aa9e50-5f7a-4fcc-a333-079bb1997485",
   "metadata": {},
   "outputs": [],
   "source": [
    "breast = load_breast_cancer()"
   ]
  },
  {
   "cell_type": "code",
   "execution_count": 3,
   "id": "83b527be-e714-4e27-b71b-3f70e41477cb",
   "metadata": {},
   "outputs": [],
   "source": [
    "breast_data = breast.data\n",
    "breast_data.shape;"
   ]
  },
  {
   "cell_type": "code",
   "execution_count": 4,
   "id": "0b9121ec-dab2-485b-88a2-e4136f8547d3",
   "metadata": {
    "tags": []
   },
   "outputs": [],
   "source": [
    "breast_input = pd.DataFrame(breast_data)\n",
    "breast_input.head();"
   ]
  },
  {
   "cell_type": "code",
   "execution_count": 5,
   "id": "b10354d9-7052-4f81-874f-ade89ff052fb",
   "metadata": {},
   "outputs": [],
   "source": [
    "breast_labels = breast.target"
   ]
  },
  {
   "cell_type": "code",
   "execution_count": 6,
   "id": "6a92b614-a14c-4f31-800d-d5edebfe98a9",
   "metadata": {},
   "outputs": [],
   "source": [
    "labels = np.reshape(breast_labels, (569,1))"
   ]
  },
  {
   "cell_type": "code",
   "execution_count": 7,
   "id": "3b65fc97-49a7-49e0-a225-d45c5aad118c",
   "metadata": {},
   "outputs": [],
   "source": [
    "final_breast_data = np.concatenate([breast_data, labels], axis =1)"
   ]
  },
  {
   "cell_type": "code",
   "execution_count": 8,
   "id": "a435096b-ab6f-4dab-829b-3ba42ce7a434",
   "metadata": {},
   "outputs": [],
   "source": [
    "final_breast_data.shape;"
   ]
  },
  {
   "cell_type": "code",
   "execution_count": 9,
   "id": "c5e41473-ae68-4b32-bc31-ea240158a3a2",
   "metadata": {},
   "outputs": [],
   "source": [
    "breast_dataset = pd.DataFrame(final_breast_data)"
   ]
  },
  {
   "cell_type": "code",
   "execution_count": 10,
   "id": "9e733cdb-668d-4a6a-8475-20402f411d9c",
   "metadata": {},
   "outputs": [],
   "source": [
    "features = breast.feature_names"
   ]
  },
  {
   "cell_type": "code",
   "execution_count": 11,
   "id": "429f76ca-780e-4e8e-9a61-5102ada41be9",
   "metadata": {},
   "outputs": [],
   "source": [
    "features_labels = np.append(features, 'label')\n",
    "breast_dataset.columns = features_labels\n",
    "breast_dataset.head();"
   ]
  },
  {
   "cell_type": "code",
   "execution_count": 12,
   "id": "b756804d-15cd-4839-8d85-a1e1715127f3",
   "metadata": {},
   "outputs": [],
   "source": [
    "breast_dataset['label'].replace(0, 'Benign', inplace = True)\n",
    "breast_dataset['label'].replace(1, 'Malignant', inplace = True)"
   ]
  },
  {
   "cell_type": "code",
   "execution_count": 13,
   "id": "ccdf2e48-495a-4050-993d-97bcf8fb61d2",
   "metadata": {},
   "outputs": [],
   "source": [
    "breast_dataset.tail();"
   ]
  },
  {
   "cell_type": "markdown",
   "id": "1a4ef7f0-a987-432d-8820-72384942e1fd",
   "metadata": {},
   "source": [
    "#### **Selecting inputs**\n",
    "- **using 30 features, columns (0-29), for x1**\n",
    "- **only 1 column (30) for y as the outcome**"
   ]
  },
  {
   "cell_type": "code",
   "execution_count": 14,
   "id": "a9628310-9554-4ced-b0ec-2b5b38fce0f3",
   "metadata": {},
   "outputs": [],
   "source": [
    "X1 = breast_dataset.iloc[:,0:30].values\n",
    "Y = breast_dataset.iloc[:,30].values"
   ]
  },
  {
   "cell_type": "markdown",
   "id": "4a972591-b198-45ac-af98-f18557ccd0fd",
   "metadata": {},
   "source": [
    "##### **80% training, 20% evaluation (test)**"
   ]
  },
  {
   "cell_type": "code",
   "execution_count": 15,
   "id": "a13a5162-a1e0-45c0-b523-e883b4877437",
   "metadata": {},
   "outputs": [],
   "source": [
    "from sklearn.model_selection import train_test_split\n",
    "X_train, X_test, Y_train, Y_test = train_test_split(X1,Y,\n",
    "train_size = 0.8)"
   ]
  },
  {
   "cell_type": "markdown",
   "id": "4ffd2f12-172e-4df8-864c-e6b9468b2eff",
   "metadata": {},
   "source": [
    "#### **Feature Scailing** "
   ]
  },
  {
   "cell_type": "code",
   "execution_count": 16,
   "id": "79942cda-2292-475b-b009-b0517aeb7c3f",
   "metadata": {},
   "outputs": [],
   "source": [
    "from sklearn.preprocessing import StandardScaler\n",
    "scale = StandardScaler()\n",
    "X_train = scale.fit_transform(X_train)\n",
    "X_test = scale.transform(X_test)"
   ]
  },
  {
   "cell_type": "markdown",
   "id": "fc7e8b65-542c-40dc-9c09-591f53b92b51",
   "metadata": {},
   "source": [
    "# **Problem 1**"
   ]
  },
  {
   "cell_type": "markdown",
   "id": "db8e12a2-3cb7-4091-86a0-2a7fa378f5d6",
   "metadata": {},
   "source": [
    "#### **Logistic Regression**"
   ]
  },
  {
   "cell_type": "code",
   "execution_count": 17,
   "id": "f0bd9685-80d2-4840-b3be-89063608238a",
   "metadata": {},
   "outputs": [
    {
     "data": {
      "text/plain": [
       "LogisticRegression()"
      ]
     },
     "execution_count": 17,
     "metadata": {},
     "output_type": "execute_result"
    }
   ],
   "source": [
    "from sklearn.linear_model import LogisticRegression\n",
    "classifier = LogisticRegression()\n",
    "classifier.fit(X_train, Y_train)"
   ]
  },
  {
   "cell_type": "code",
   "execution_count": 18,
   "id": "ac8725b7-6b18-4e0d-8df0-aacc2ddcb02b",
   "metadata": {},
   "outputs": [
    {
     "data": {
      "text/plain": [
       "array(['Benign', 'Malignant', 'Malignant', 'Malignant', 'Malignant'],\n",
       "      dtype=object)"
      ]
     },
     "execution_count": 18,
     "metadata": {},
     "output_type": "execute_result"
    }
   ],
   "source": [
    "Y1_pred = classifier.predict(X_test)\n",
    "Y1_pred[0:5]"
   ]
  },
  {
   "cell_type": "code",
   "execution_count": 19,
   "id": "0e4d98b1-b99b-4d2c-b573-2098845d24ea",
   "metadata": {},
   "outputs": [
    {
     "name": "stdout",
     "output_type": "stream",
     "text": [
      "[[46  3]\n",
      " [ 1 64]]\n"
     ]
    }
   ],
   "source": [
    "from sklearn.metrics import confusion_matrix\n",
    "cnf_matrix = confusion_matrix(Y_test, Y1_pred)\n",
    "print(cnf_matrix)"
   ]
  },
  {
   "cell_type": "markdown",
   "id": "cfc9d7fa-a8aa-4bcd-9afe-103d657d7152",
   "metadata": {},
   "source": [
    "#### **Accuracy**"
   ]
  },
  {
   "cell_type": "code",
   "execution_count": 20,
   "id": "9db54466-0602-40b9-bfa2-c85d83e09c64",
   "metadata": {},
   "outputs": [
    {
     "name": "stdout",
     "output_type": "stream",
     "text": [
      "Accuracy for all 30 features:  0.9649122807017544\n"
     ]
    }
   ],
   "source": [
    "from sklearn import metrics\n",
    "# Accuracy of model \n",
    "print(\"Accuracy for all 30 features: \", metrics.accuracy_score(Y_test,Y1_pred))"
   ]
  },
  {
   "cell_type": "markdown",
   "id": "697d6f88-6c14-48a8-8dee-d50bc281cf0b",
   "metadata": {},
   "source": [
    "#### **Confusion Matrix**"
   ]
  },
  {
   "cell_type": "code",
   "execution_count": 21,
   "id": "8f1aedc6-6174-41fc-b0a3-8a096053b74d",
   "metadata": {},
   "outputs": [
    {
     "data": {
      "text/plain": [
       "Text(0.5, 257.44, 'Predicted label')"
      ]
     },
     "execution_count": 21,
     "metadata": {},
     "output_type": "execute_result"
    },
    {
     "data": {
      "image/png": "[encoded data removed]",
      "text/plain": [
       "<Figure size 432x288 with 2 Axes>"
      ]
     },
     "metadata": {
      "needs_background": "light"
     },
     "output_type": "display_data"
    }
   ],
   "source": [
    "import seaborn as sns\n",
    "class_names = [0,1]\n",
    "fig, ax = plt.subplots()\n",
    "tick_marks = np.arange(len(class_names))\n",
    "plt.xticks(tick_marks, class_names)\n",
    "plt.yticks(tick_marks, class_names)\n",
    "# Heatmap\n",
    "sns.heatmap(pd.DataFrame(cnf_matrix), annot=True, cmap=\"YlGnBu\", fmt='g')\n",
    "ax.xaxis.set_label_position(\"top\")\n",
    "plt.tight_layout()\n",
    "plt.title('Confusion matrix', y = 1.1)\n",
    "plt.ylabel('Actual label')\n",
    "plt.xlabel('Predicted label')"
   ]
  },
  {
   "cell_type": "markdown",
   "id": "63bb8343-e871-4d9b-9266-e6f492dcfb5a",
   "metadata": {},
   "source": [
    "**Traning from 1 to 30 features**"
   ]
  },
  {
   "cell_type": "code",
   "execution_count": 34,
   "id": "bb8e9a66-279b-4f67-a287-ae091dcdd389",
   "metadata": {},
   "outputs": [
    {
     "name": "stdout",
     "output_type": "stream",
     "text": [
      "1 Components\n",
      "Accuracy of n= 1  component 0.9649122807017544\n",
      "\n",
      "2 Components\n",
      "Accuracy of n= 2  component 0.9736842105263158\n",
      "\n",
      "3 Components\n",
      "Accuracy of n= 3  component 0.9912280701754386\n",
      "\n",
      "4 Components\n",
      "Accuracy of n= 4  component 1.0\n",
      "\n",
      "5 Components\n",
      "Accuracy of n= 5  component 0.9912280701754386\n",
      "\n",
      "6 Components\n",
      "Accuracy of n= 6  component 0.9912280701754386\n",
      "\n",
      "7 Components\n",
      "Accuracy of n= 7  component 0.9649122807017544\n",
      "\n",
      "8 Components\n",
      "Accuracy of n= 8  component 0.9736842105263158\n",
      "\n",
      "9 Components\n",
      "Accuracy of n= 9  component 0.9824561403508771\n",
      "\n",
      "10 Components\n",
      "Accuracy of n= 10  component 0.9736842105263158\n",
      "\n",
      "11 Components\n",
      "Accuracy of n= 11  component 1.0\n",
      "\n",
      "12 Components\n",
      "Accuracy of n= 12  component 0.9649122807017544\n",
      "\n",
      "13 Components\n",
      "Accuracy of n= 13  component 0.9824561403508771\n",
      "\n",
      "14 Components\n",
      "Accuracy of n= 14  component 0.9824561403508771\n",
      "\n",
      "15 Components\n",
      "Accuracy of n= 15  component 0.9736842105263158\n",
      "\n",
      "16 Components\n",
      "Accuracy of n= 16  component 0.9736842105263158\n",
      "\n",
      "17 Components\n",
      "Accuracy of n= 17  component 0.9912280701754386\n",
      "\n",
      "18 Components\n",
      "Accuracy of n= 18  component 0.9912280701754386\n",
      "\n",
      "19 Components\n",
      "Accuracy of n= 19  component 0.9736842105263158\n",
      "\n",
      "20 Components\n",
      "Accuracy of n= 20  component 0.9912280701754386\n",
      "\n",
      "21 Components\n",
      "Accuracy of n= 21  component 0.9912280701754386\n",
      "\n",
      "22 Components\n",
      "Accuracy of n= 22  component 0.9824561403508771\n",
      "\n",
      "23 Components\n",
      "Accuracy of n= 23  component 0.9912280701754386\n",
      "\n",
      "24 Components\n",
      "Accuracy of n= 24  component 0.9912280701754386\n",
      "\n",
      "25 Components\n",
      "Accuracy of n= 25  component 0.9649122807017544\n",
      "\n",
      "26 Components\n",
      "Accuracy of n= 26  component 0.9736842105263158\n",
      "\n",
      "27 Components\n",
      "Accuracy of n= 27  component 0.9912280701754386\n",
      "\n",
      "28 Components\n",
      "Accuracy of n= 28  component 1.0\n",
      "\n",
      "29 Components\n",
      "Accuracy of n= 29  component 0.9912280701754386\n",
      "\n",
      "30 Components\n",
      "Accuracy of n= 30  component 0.9824561403508771\n",
      "\n"
     ]
    }
   ],
   "source": [
    "from sklearn.model_selection import train_test_split\n",
    "from sklearn.preprocessing import StandardScaler\n",
    "from sklearn.linear_model import LogisticRegression\n",
    "from sklearn import metrics\n",
    "\n",
    "n = 30;\n",
    "for i in range(1,n+1):\n",
    "    X_train, X_test, Y_train, Y_test = train_test_split(X1,Y,\n",
    "    train_size = 0.8)\n",
    "    scale = StandardScaler()\n",
    "    X_train = scale.fit_transform(X_train)\n",
    "    X_test = scale.transform(X_test)   \n",
    "    classifier = LogisticRegression()\n",
    "    classifier.fit(X_train, Y_train)\n",
    "    Y1_pred = classifier.predict(X_test)\n",
    "    print(i,'Components')\n",
    "    # Accuracy of model \n",
    "    print('Accuracy of n=',i,' component', metrics.accuracy_score(Y_test,Y1_pred))\n",
    "    print('')\n",
    "    "
   ]
  },
  {
   "cell_type": "markdown",
   "id": "3f026e83-986c-4f9d-8da5-956a30a36af5",
   "metadata": {},
   "source": [
    "**It was possible to train a logistic regression over all the features maps**"
   ]
  },
  {
   "cell_type": "markdown",
   "id": "b788a7cb-7072-481f-955a-0586ec2276bb",
   "metadata": {},
   "source": [
    "# **Problem 2**"
   ]
  },
  {
   "cell_type": "markdown",
   "id": "6401b29e-ecf7-44a5-abc7-5f17cb1ae8fb",
   "metadata": {},
   "source": [
    "#### **Standardizing features**"
   ]
  },
  {
   "cell_type": "code",
   "execution_count": 23,
   "id": "402c63c0-381d-4b47-8ab7-c05c9eee6ec3",
   "metadata": {},
   "outputs": [],
   "source": [
    "from sklearn.model_selection import train_test_split\n",
    "\n",
    "X_train, X_test, Y_train, Y_test = train_test_split(X1,Y,train_size = 0.8)\n",
    "\n",
    "X_train = scale.fit_transform(X_train)\n",
    "X_test = scale.transform(X_test)"
   ]
  },
  {
   "cell_type": "markdown",
   "id": "d4f28442-1696-4acf-aeb5-a8c3c4563779",
   "metadata": {},
   "source": [
    "#### **Variance ratio of all 30 compoents**"
   ]
  },
  {
   "cell_type": "code",
   "execution_count": 24,
   "id": "2be7f98b-171f-4cd0-83ef-0eb9d291f21d",
   "metadata": {},
   "outputs": [
    {
     "data": {
      "text/plain": [
       "[<matplotlib.lines.Line2D at 0x2a4b7b2b3a0>]"
      ]
     },
     "execution_count": 24,
     "metadata": {},
     "output_type": "execute_result"
    },
    {
     "data": {
      "image/png": "[encoded data removed]",
      "text/plain": [
       "<Figure size 432x288 with 1 Axes>"
      ]
     },
     "metadata": {
      "needs_background": "light"
     },
     "output_type": "display_data"
    }
   ],
   "source": [
    "from sklearn.decomposition import PCA\n",
    "pca = PCA(n_components = 30)\n",
    "\n",
    "#\n",
    "pca.fit(X_train)\n",
    "\n",
    "var = pca.explained_variance_ratio_\n",
    "var1=np.cumsum(np.round(pca.explained_variance_ratio_,decimals=4)*100)\n",
    "#print(var1)\n",
    "\n",
    "plt.xlabel('Principal Component', fontsize = 10)\n",
    "plt.ylabel('Variance Ratio', fontsize = 10)\n",
    "plt.title('Variance', fontsize = 15)\n",
    "plt.plot(var)"
   ]
  },
  {
   "cell_type": "markdown",
   "id": "8233b8d2-80a7-4fcc-8436-d3ca3ca67257",
   "metadata": {},
   "source": [
    "**Looking that graph above it looks like after 5 components the change in variance dimishes. This means that choosing 5 components results in the best classifiaction accuracy**"
   ]
  },
  {
   "cell_type": "code",
   "execution_count": 25,
   "id": "f0ff6dff-8451-4179-b9b5-bc6c2063f62b",
   "metadata": {
    "tags": []
   },
   "outputs": [
    {
     "name": "stdout",
     "output_type": "stream",
     "text": [
      "1 Components\n",
      "Accuracy of n= 1  component 0.956140350877193\n",
      "Precision of n= 1  component 1.0\n",
      "Recall of n =  1  compoennt 0.8863636363636364\n",
      "\n",
      "2 Components\n",
      "Accuracy of n= 2  component 0.9473684210526315\n",
      "Precision of n= 2  component 0.9333333333333333\n",
      "Recall of n =  2  compoennt 0.9333333333333333\n",
      "\n",
      "3 Components\n",
      "Accuracy of n= 3  component 0.956140350877193\n",
      "Precision of n= 3  component 0.9545454545454546\n",
      "Recall of n =  3  compoennt 0.9333333333333333\n",
      "\n",
      "4 Components\n",
      "Accuracy of n= 4  component 0.9649122807017544\n",
      "Precision of n= 4  component 1.0\n",
      "Recall of n =  4  compoennt 0.9166666666666666\n",
      "\n",
      "5 Components\n",
      "Accuracy of n= 5  component 0.9824561403508771\n",
      "Precision of n= 5  component 0.972972972972973\n",
      "Recall of n =  5  compoennt 0.972972972972973\n",
      "\n",
      "6 Components\n",
      "Accuracy of n= 6  component 0.9824561403508771\n",
      "Precision of n= 6  component 0.9743589743589743\n",
      "Recall of n =  6  compoennt 0.9743589743589743\n",
      "\n",
      "7 Components\n",
      "Accuracy of n= 7  component 0.9824561403508771\n",
      "Precision of n= 7  component 0.975\n",
      "Recall of n =  7  compoennt 0.975\n",
      "\n",
      "8 Components\n",
      "Accuracy of n= 8  component 0.9824561403508771\n",
      "Precision of n= 8  component 1.0\n",
      "Recall of n =  8  compoennt 0.9574468085106383\n",
      "\n",
      "9 Components\n",
      "Accuracy of n= 9  component 0.9912280701754386\n",
      "Precision of n= 9  component 1.0\n",
      "Recall of n =  9  compoennt 0.9795918367346939\n",
      "\n",
      "10 Components\n",
      "Accuracy of n= 10  component 0.9649122807017544\n",
      "Precision of n= 10  component 0.975\n",
      "Recall of n =  10  compoennt 0.9285714285714286\n",
      "\n"
     ]
    }
   ],
   "source": [
    "from sklearn.model_selection import train_test_split\n",
    "from sklearn.decomposition import PCA\n",
    "\n",
    "n = 10; # n components\n",
    "\n",
    "for i in range(1,n+1):\n",
    "    X_train, X_test, Y_train, Y_test = train_test_split(X1,Y,train_size = 0.8)\n",
    "    X_train = scale.fit_transform(X_train)\n",
    "    X_test = scale.transform(X_test)\n",
    "    \n",
    "    pca = PCA(n_components= i)\n",
    "    X_train = pca.fit_transform(X_train)\n",
    "    X_test = pca.transform(X_test)\n",
    "    from sklearn.linear_model import LogisticRegression\n",
    "    classifier = LogisticRegression()\n",
    "    classifier.fit(X_train, Y_train)\n",
    "    Y1_pred = classifier.predict(X_test)\n",
    " \n",
    "    from sklearn.metrics import confusion_matrix\n",
    "    from sklearn import metrics\n",
    "    print(i,'Components')\n",
    "    # Accuracy of model \n",
    "    print('Accuracy of n=',i,' component', metrics.accuracy_score(Y_test,Y1_pred))\n",
    "    # Precision of model\n",
    "    print('Precision of n=',i,' component', metrics.precision_score(Y_test,Y1_pred, pos_label='Benign'))\n",
    "    # Precision of model\n",
    "    print('Recall of n = ',i,' compoennt', metrics.recall_score(Y_test,Y1_pred, pos_label = 'Benign'))\n",
    "    print('')\n",
    "    #cm = confusion_matrix(Y_test, Y1_pred)\n",
    "    #print(cm)"
   ]
  },
  {
   "cell_type": "markdown",
   "id": "6570de0d-617f-4f8c-8fe3-18730f8f034c",
   "metadata": {},
   "source": [
    "**The result above show that after 5 components the change in Accuracry, Precision, and Recall dimishes**"
   ]
  },
  {
   "cell_type": "markdown",
   "id": "7105cd42-73e9-4ccd-a304-38f809920ef3",
   "metadata": {},
   "source": [
    "#### **Ploting for 2 Components**"
   ]
  },
  {
   "cell_type": "code",
   "execution_count": 26,
   "id": "138ff41d-5193-4f62-a5d0-46bd93866f63",
   "metadata": {},
   "outputs": [],
   "source": [
    "pca = PCA(n_components = 2)\n",
    "X = StandardScaler().fit_transform(X1)\n",
    "Principal_Components = pca.fit_transform(X)\n",
    "Principal_DF = pd.DataFrame(data = Principal_Components,\n",
    "                           columns = ['principal component 1', 'principal component 2'])"
   ]
  },
  {
   "cell_type": "code",
   "execution_count": 27,
   "id": "a4678100-91ae-4e87-8e0c-9d71120ff83e",
   "metadata": {},
   "outputs": [],
   "source": [
    "finalDf = pd.concat([Principal_DF,breast_dataset[['label']]], axis =1)"
   ]
  },
  {
   "cell_type": "code",
   "execution_count": 28,
   "id": "91d2a9dd-0cbe-464c-9b36-477b665aedc4",
   "metadata": {},
   "outputs": [
    {
     "data": {
      "image/png": "[encoded data removed]",
      "text/plain": [
       "<Figure size 576x576 with 1 Axes>"
      ]
     },
     "metadata": {
      "needs_background": "light"
     },
     "output_type": "display_data"
    }
   ],
   "source": [
    "fig = plt.figure(figsize = (8,8))\n",
    "ax = fig.add_subplot(1,1,1)\n",
    "ax.set_xlabel('Principal Component 1', fontsize = 15)\n",
    "ax.set_ylabel('Principal Component 2', fontsize = 15)\n",
    "ax.set_title('2 component PCA', fontsize = 20)\n",
    "labels = ['Benign', 'Malignant']\n",
    "colors = ['r', 'g']\n",
    "for label, color in zip(labels,colors):\n",
    "    indicesToKeep = finalDf['label'] == label\n",
    "    ax.scatter(finalDf.loc[indicesToKeep, 'principal component 1']\n",
    "    ,finalDf.loc[indicesToKeep, 'principal component 2']\n",
    "        , c = color\n",
    "        , s = 50)\n",
    "ax.legend(labels)\n",
    "ax.grid()"
   ]
  },
  {
   "cell_type": "markdown",
   "id": "e269681d-639e-4255-97a1-652f7e08e7b8",
   "metadata": {},
   "source": [
    "# **Problem 3**"
   ]
  },
  {
   "cell_type": "markdown",
   "id": "97f45cad-230a-4965-9330-d3c47ada38cf",
   "metadata": {},
   "source": [
    "**LDA feature extraction**"
   ]
  },
  {
   "cell_type": "code",
   "execution_count": 29,
   "id": "eafbefaf-1f93-48a1-8a3b-f869adf57f2f",
   "metadata": {},
   "outputs": [],
   "source": [
    "from sklearn.discriminant_analysis import LinearDiscriminantAnalysis\n",
    "lda = LinearDiscriminantAnalysis(n_components =1)\n",
    "lda_t = lda.fit_transform(X1,Y)"
   ]
  },
  {
   "cell_type": "markdown",
   "id": "7be980eb-ce16-4057-ab2a-cc33341b7e66",
   "metadata": {},
   "source": [
    "**Since there are only two classes, Malignant or Benign, the number of components an only be 1 dimensional.**"
   ]
  },
  {
   "cell_type": "code",
   "execution_count": 30,
   "id": "15c678b7-ebeb-46c5-bcac-f70cb266c4c9",
   "metadata": {},
   "outputs": [],
   "source": [
    "#plt.xlabel('LD1')\n",
    "#plt.ylabel('LD2')\n",
    "#plt.scatter(lda_t[:,0],np.zeros(lda_t[:1]),c=Y,cmap='rainbow',edgecolors='r')"
   ]
  },
  {
   "cell_type": "markdown",
   "id": "5e70110e-1573-4b0b-93e7-293c94e8f930",
   "metadata": {},
   "source": [
    "**Bays classification ccuracy, precision, and recallfrom** "
   ]
  },
  {
   "cell_type": "code",
   "execution_count": 31,
   "id": "d208a60c-ee10-44bf-8739-cc2cbe115a5a",
   "metadata": {
    "tags": []
   },
   "outputs": [
    {
     "name": "stdout",
     "output_type": "stream",
     "text": [
      "Accuracy: 0.9473684210526315\n",
      "Precision 1.0\n",
      "Recall 0.8695652173913043\n"
     ]
    },
    {
     "data": {
      "text/plain": [
       "array([[40,  6],\n",
       "       [ 0, 68]], dtype=int64)"
      ]
     },
     "execution_count": 31,
     "metadata": {},
     "output_type": "execute_result"
    }
   ],
   "source": [
    "from sklearn import metrics\n",
    "from sklearn.metrics import confusion_matrix\n",
    "from sklearn.naive_bayes import GaussianNB\n",
    "\n",
    "# Training & Scaling\n",
    "X_train, X_test, Y_train, Y_test = train_test_split(X1,Y,train_size = 0.8)\n",
    "X_train = scale.fit_transform(X_train)\n",
    "X_test = scale.transform(X_test) \n",
    "\n",
    "lda.fit(X_train,Y_train)\n",
    "\n",
    "# Classification\n",
    "classifier = GaussianNB()\n",
    "classifier.fit(X_train, Y_train)\n",
    "\n",
    "# Pred\n",
    "Y1_pred = lda.predict(X_test)\n",
    "print('Accuracy:',metrics.accuracy_score(Y_test,Y1_pred))\n",
    "# Precision of model\n",
    "print('Precision',metrics.precision_score(Y_test,Y1_pred, pos_label='Benign'))\n",
    "# Precision of model\n",
    "print('Recall',metrics.recall_score(Y_test,Y1_pred, pos_label = 'Benign'))\n",
    "confusion_matrix(Y_test,Y1_pred)"
   ]
  },
  {
   "cell_type": "markdown",
   "id": "3afcc119-460c-4769-bfee-7d4d05efc927",
   "metadata": {},
   "source": [
    "**Accuracy and precision is high, simialr to Problem 1 and 2**"
   ]
  },
  {
   "cell_type": "markdown",
   "id": "f33fc324-43f4-4a82-bbac-dffe0d402bfc",
   "metadata": {},
   "source": [
    "# **Problem 4**"
   ]
  },
  {
   "cell_type": "code",
   "execution_count": 32,
   "id": "5833c376-264c-45fd-843d-636ad84472e1",
   "metadata": {},
   "outputs": [],
   "source": [
    "from sklearn.discriminant_analysis import LinearDiscriminantAnalysis\n",
    "lda = LinearDiscriminantAnalysis(n_components =1)\n",
    "lda_t = lda.fit_transform(X1,Y)"
   ]
  },
  {
   "cell_type": "markdown",
   "id": "99d8d78e-63aa-4385-99ca-27bd74fd1931",
   "metadata": {},
   "source": [
    "**LDA Logistic Regression classification accuracy, precision, and recall**"
   ]
  },
  {
   "cell_type": "code",
   "execution_count": 33,
   "id": "7ed5ccb1-bd16-4a24-b055-a89bbeae91d0",
   "metadata": {},
   "outputs": [
    {
     "name": "stdout",
     "output_type": "stream",
     "text": [
      "Accuracy: 0.9649122807017544\n",
      "Precision 1.0\n",
      "Recall 0.9148936170212766\n"
     ]
    },
    {
     "data": {
      "text/plain": [
       "array([[43,  4],\n",
       "       [ 0, 67]], dtype=int64)"
      ]
     },
     "execution_count": 33,
     "metadata": {},
     "output_type": "execute_result"
    }
   ],
   "source": [
    "from sklearn import metrics\n",
    "from sklearn.metrics import confusion_matrix\n",
    "from sklearn.linear_model import LogisticRegression\n",
    "\n",
    "# Training \n",
    "X_train, X_test, Y_train, Y_test = train_test_split(X1,Y,train_size = 0.8)\n",
    "\n",
    "X_train = scale.fit_transform(X_train)\n",
    "X_test = scale.transform(X_test) \n",
    "\n",
    "lda.fit(X_train,Y_train)\n",
    "\n",
    "# Classification\n",
    "classifier = LogisticRegression()\n",
    "classifier.fit(X_train, Y_train)\n",
    "Y1_pred = classifier.predict(X_test)\n",
    "\n",
    "# Pred\n",
    "Y1_pred = lda.predict(X_test)\n",
    "print('Accuracy:',metrics.accuracy_score(Y_test,Y1_pred))\n",
    "# Precision of model\n",
    "print('Precision',metrics.precision_score(Y_test,Y1_pred, pos_label='Benign'))\n",
    "# Precision of model\n",
    "print('Recall',metrics.recall_score(Y_test,Y1_pred, pos_label = 'Benign'))\n",
    "confusion_matrix(Y_test,Y1_pred)"
   ]
  },
  {
   "cell_type": "markdown",
   "id": "d429ae56-f523-4d29-bc22-9fdf78c4f014",
   "metadata": {},
   "source": [
    "**The accuracy and precision are the same however, the recall is higher then the Problem 2 and 3. This is due to an decress in Fasle Positives**"
   ]
  }
 ],
 "metadata": {
  "kernelspec": {
   "display_name": "Python 3",
   "language": "python",
   "name": "python3"
  },
  "language_info": {
   "codemirror_mode": {
    "name": "ipython",
    "version": 3
   },
   "file_extension": ".py",
   "mimetype": "text/x-python",
   "name": "python",
   "nbconvert_exporter": "python",
   "pygments_lexer": "ipython3",
   "version": "3.8.8"
  }
 },
 "nbformat": 4,
 "nbformat_minor": 5
}
