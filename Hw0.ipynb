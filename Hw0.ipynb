{
 "cells": [
  {
   "cell_type": "code",
   "execution_count": 1,
   "id": "6cf63aa0",
   "metadata": {},
   "outputs": [],
   "source": [
    "import numpy as np\n",
    "import pandas as pd\n",
    "import matplotlib.pyplot as plt\n"
   ]
  },
  {
   "cell_type": "code",
   "execution_count": 2,
   "id": "730a6045",
   "metadata": {},
   "outputs": [
    {
     "data": {
      "text/plain": [
       "99"
      ]
     },
     "execution_count": 2,
     "metadata": {},
     "output_type": "execute_result"
    }
   ],
   "source": [
    "df = pd.read_csv (r'/home/erwin/Desktop/Intro to MC/D3.csv')\n",
    "df.head()\n",
    "M=len(df)\n",
    "M\n"
   ]
  },
  {
   "cell_type": "code",
   "execution_count": 10,
   "id": "d46f500e",
   "metadata": {},
   "outputs": [],
   "source": [
    "X = df.values[:,0] #get input values from first column\n",
    "y = df.values[:,3] #get output values from second column\n",
    "m = len(y) #Number of training examples\n",
    "#print('X =', X[:5])# Show only first 5 records\n",
    "#print('y =', y[:5])\n",
    "#print('m =',m)"
   ]
  },
  {
   "cell_type": "code",
   "execution_count": 9,
   "id": "eaf755de",
   "metadata": {},
   "outputs": [
    {
     "data": {
      "text/plain": [
       "Text(0.5, 1.0, 'Scatter plot of training data')"
      ]
     },
     "execution_count": 9,
     "metadata": {},
     "output_type": "execute_result"
    },
    {
     "data": {
      "image/png": "[encoded data removed]",
      "text/plain": [
       "<Figure size 720x432 with 1 Axes>"
      ]
     },
     "metadata": {
      "needs_background": "light"
     },
     "output_type": "display_data"
    }
   ],
   "source": [
    "plt.scatter(X,y, color='red', marker='+')\n",
    "plt.grid()\n",
    "#plt.rcParams[\"figure.figsize\"] = (10,6)\n",
    "plt.xlabel('Pop')\n",
    "plt.ylabel('Prof')\n",
    "plt.title('Scatter plot of training data')"
   ]
  },
  {
   "cell_type": "code",
   "execution_count": 38,
   "id": "a6b7e3a0",
   "metadata": {},
   "outputs": [
    {
     "ename": "ValueError",
     "evalue": "cannot reshape array of size 198 into shape (99,1)",
     "output_type": "error",
     "traceback": [
      "\u001b[0;31m---------------------------------------------------------------------------\u001b[0m",
      "\u001b[0;31mValueError\u001b[0m                                Traceback (most recent call last)",
      "\u001b[0;32m<ipython-input-38-2980b659569e>\u001b[0m in \u001b[0;36m<module>\u001b[0;34m\u001b[0m\n\u001b[1;32m      4\u001b[0m \u001b[0mX_0\u001b[0m\u001b[0;34m[\u001b[0m\u001b[0;34m:\u001b[0m\u001b[0;36m5\u001b[0m\u001b[0;34m]\u001b[0m\u001b[0;34m\u001b[0m\u001b[0;34m\u001b[0m\u001b[0m\n\u001b[1;32m      5\u001b[0m \u001b[0;34m\u001b[0m\u001b[0m\n\u001b[0;32m----> 6\u001b[0;31m \u001b[0mX_1\u001b[0m \u001b[0;34m=\u001b[0m \u001b[0mX\u001b[0m\u001b[0;34m.\u001b[0m\u001b[0mreshape\u001b[0m\u001b[0;34m(\u001b[0m\u001b[0mm\u001b[0m\u001b[0;34m,\u001b[0m\u001b[0;36m1\u001b[0m\u001b[0;34m)\u001b[0m\u001b[0;34m\u001b[0m\u001b[0;34m\u001b[0m\u001b[0m\n\u001b[0m\u001b[1;32m      7\u001b[0m \u001b[0mX_1\u001b[0m\u001b[0;34m[\u001b[0m\u001b[0;34m:\u001b[0m\u001b[0;36m10\u001b[0m\u001b[0;34m]\u001b[0m\u001b[0;34m\u001b[0m\u001b[0;34m\u001b[0m\u001b[0m\n\u001b[1;32m      8\u001b[0m \u001b[0;34m\u001b[0m\u001b[0m\n",
      "\u001b[0;31mValueError\u001b[0m: cannot reshape array of size 198 into shape (99,1)"
     ]
    }
   ],
   "source": [
    "#X = np.array(X)\n",
    "#y = np.array(y).flatten()\n",
    "X_0 = np.ones((m,1))\n",
    "X_0[:5]\n",
    "\n",
    "X_1 = X.reshape(m,1)\n",
    "X_1[:10]\n",
    "\n",
    "X = np.hstack((X_0, X_1))\n",
    "X[:5]\n",
    "\n",
    "theta = np.array([0,0])\n"
   ]
  },
  {
   "cell_type": "code",
   "execution_count": 32,
   "id": "359be307",
   "metadata": {},
   "outputs": [],
   "source": [
    "def compute_cost(X,y,theta):\n",
    "    #prediction = X.dot(theta)\n",
    "    #errors = np.square(prediction, y)\n",
    "    #sqrErrors = np.square(errors)\n",
    "    m = len(y)\n",
    "    J = np.sum((X.dot(theta)-y)**2)/2/m\n",
    "    \n",
    "    return J"
   ]
  },
  {
   "cell_type": "code",
   "execution_count": 34,
   "id": "b5d66c25",
   "metadata": {},
   "outputs": [
    {
     "name": "stdout",
     "output_type": "stream",
     "text": [
      "The cost for given values of theta = 0.0\n"
     ]
    }
   ],
   "source": [
    "cost = compute_cost(X,y,theta)\n",
    "print('The cost for given values of theta =', cost)"
   ]
  },
  {
   "cell_type": "code",
   "execution_count": null,
   "id": "a408ecca",
   "metadata": {},
   "outputs": [],
   "source": []
  }
 ],
 "metadata": {
  "kernelspec": {
   "display_name": "Python 3",
   "language": "python",
   "name": "python3"
  },
  "language_info": {
   "codemirror_mode": {
    "name": "ipython",
    "version": 3
   },
   "file_extension": ".py",
   "mimetype": "text/x-python",
   "name": "python",
   "nbconvert_exporter": "python",
   "pygments_lexer": "ipython3",
   "version": "3.8.8"
  }
 },
 "nbformat": 4,
 "nbformat_minor": 5
}
