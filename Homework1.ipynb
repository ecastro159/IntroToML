{
 "cells": [
  {
   "cell_type": "code",
   "execution_count": 408,
   "id": "f0a7a6d4",
   "metadata": {},
   "outputs": [],
   "source": [
    "import numpy as np\n",
    "import pandas as pd \n",
    "import matplotlib.pyplot as plt"
   ]
  },
  {
   "cell_type": "code",
   "execution_count": 426,
   "id": "6ae48449",
   "metadata": {},
   "outputs": [],
   "source": [
    "df = pd.read_csv(r'/home/erwin/Desktop/Intro to MC/Housing.csv')\n",
    "#df.head() "
   ]
  },
  {
   "cell_type": "code",
   "execution_count": 427,
   "id": "ef0657b7",
   "metadata": {},
   "outputs": [],
   "source": [
    "# Input variables\n",
    "\n",
    "area = df.values[:,1] #get area\n",
    "bedrooms = df.values[:,2] #get bedrooms\n",
    "bathrooms = df.values[:,3] #get bathrooms\n",
    "stories = df.values[:,4] #get stories\n",
    "mainroad = df.values[:,5] #get mainroad\n",
    "guestroom = df.values[:,6] #get guestroom\n",
    "basement = df.values[:,7] #get basement\n",
    "hotwater = df.values[:,8] #get hotwaterheating\n",
    "aircondition = df.values[:,9] #get airconditioning\n",
    "parking = df.values[:,10] #get parking\n",
    "prefarea = df.values[:,11]#get prefarea\n",
    "\n",
    "y = df.values[:,0] #get Dependent variable Y Price\n",
    "\n",
    "# Length of Y\n",
    "\n",
    "m = len(y)\n",
    "\n",
    "#(df['price']-df['price'].min())/(df['price'].max()-df['price'].min())\n",
    "#(df['area']-df['area'].min())/(df['area'].max()-df['area'].min())"
   ]
  },
  {
   "cell_type": "code",
   "execution_count": 428,
   "id": "09dbac7b",
   "metadata": {},
   "outputs": [],
   "source": [
    "# Input Normalization \n",
    "\n",
    "def normalization(value):\n",
    "    x =(value-value.min())/(value.max()-value.min())\n",
    "    return x"
   ]
  },
  {
   "cell_type": "code",
   "execution_count": 429,
   "id": "73b57645",
   "metadata": {},
   "outputs": [],
   "source": [
    "# Input Standardization \n",
    "\n",
    "def standardized(value):\n",
    "    x =(value-value.mean())/(value.std())\n",
    "    return x"
   ]
  },
  {
   "cell_type": "code",
   "execution_count": 442,
   "id": "9142c91a",
   "metadata": {},
   "outputs": [],
   "source": [
    "# Input selection \n",
    "\n",
    "#X1 = area\n",
    "#y = y\n",
    "\n",
    "\n",
    "X1 = normalization(bedrooms)\n",
    "y = normalization(y)\n",
    "\n",
    "#X1 = standardized(area)\n",
    "#y = standardized(y)\n",
    "\n",
    "#print(X1[:10])"
   ]
  },
  {
   "cell_type": "code",
   "execution_count": 443,
   "id": "b80be16d",
   "metadata": {},
   "outputs": [
    {
     "data": {
      "text/plain": [
       "Text(0.5, 1.0, 'Scatter plot of training data')"
      ]
     },
     "execution_count": 443,
     "metadata": {},
     "output_type": "execute_result"
    },
    {
     "data": {
      "image/png": "[encoded data removed]",
      "text/plain": [
       "<Figure size 432x288 with 1 Axes>"
      ]
     },
     "metadata": {
      "needs_background": "light"
     },
     "output_type": "display_data"
    }
   ],
   "source": [
    "# Data Plot\n",
    "\n",
    "plt.scatter(X1,y, color='red', marker='+')\n",
    "plt.grid()\n",
    "plt.xlabel('Area')\n",
    "plt.ylabel('Price')\n",
    "plt.title('Scatter plot of training data')"
   ]
  },
  {
   "cell_type": "code",
   "execution_count": 444,
   "id": "4533c8b7",
   "metadata": {},
   "outputs": [],
   "source": [
    "# Matrixs of ones\n",
    "\n",
    "X_0 = np.ones((m,1))\n",
    "theta = np.zeros(2)\n",
    "reg = 5"
   ]
  },
  {
   "cell_type": "code",
   "execution_count": 445,
   "id": "0fb381a7",
   "metadata": {},
   "outputs": [],
   "source": [
    "# Converting 1D array to 2D array with length Y\n",
    "\n",
    "X_1 = X1.reshape((m, 1))\n",
    "X1=np.hstack((X_0,X_1))"
   ]
  },
  {
   "cell_type": "code",
   "execution_count": 446,
   "id": "a47d48c2",
   "metadata": {},
   "outputs": [],
   "source": [
    "# Cost function \n",
    "\n",
    "def compute_cost(X,y,theta):\n",
    "    prediction = X.dot(theta)\n",
    "    errors = np.subtract(prediction, y)\n",
    "    sqrErrors = np.square(errors)\n",
    "    \n",
    "    \n",
    "    J = 1/(2*m) * np.sum(sqrErrors)\n",
    "    \n",
    "    return J"
   ]
  },
  {
   "cell_type": "code",
   "execution_count": 447,
   "id": "4e61b760",
   "metadata": {},
   "outputs": [],
   "source": [
    "# Cost function with parameters penalty \n",
    "\n",
    "def compute_cost_reg(X,y,theta, reg):\n",
    "    prediction = X.dot(theta)\n",
    "    errors = np.subtract(prediction, y)\n",
    "    sqrErrors = np.square(errors)    \n",
    "    \n",
    "    \n",
    "    J = 1/(2*m) * (np.sum(sqrErrors) + reg*np.sum(np.square(theta)))\n",
    "    \n",
    "    return J"
   ]
  },
  {
   "cell_type": "code",
   "execution_count": 448,
   "id": "04ef9bb4",
   "metadata": {},
   "outputs": [
    {
     "name": "stdout",
     "output_type": "stream",
     "text": [
      "The cost for given values of theta_0 and theta_1 = 0.047198442166923524\n"
     ]
    }
   ],
   "source": [
    "# Cost for theta values \n",
    "\n",
    "cost = compute_cost_reg(X1,y,theta, reg)\n",
    "print('The cost for given values of theta_0 and theta_1 =', cost)"
   ]
  },
  {
   "cell_type": "code",
   "execution_count": 449,
   "id": "de4f78e6",
   "metadata": {},
   "outputs": [],
   "source": [
    "def gradient_descent(X, y, theta, alpha, iterations):\n",
    "    cost_history = np.zeros(iterations)\n",
    "    \n",
    "    for i in range(iterations):\n",
    "        predictions = X.dot(theta)\n",
    "        errors = np.subtract(predictions, y)\n",
    "        sum_delta = (alpha / m) * X.transpose().dot(errors);\n",
    "        theta = theta - sum_delta;\n",
    "        \n",
    "        # Cost history with parameters penalty \n",
    "        cost_history[i] = compute_cost_reg(X, y, theta, reg)\n",
    "    \n",
    "    return theta, cost_history"
   ]
  },
  {
   "cell_type": "code",
   "execution_count": 450,
   "id": "57f3b409",
   "metadata": {},
   "outputs": [],
   "source": [
    "# Parameters\n",
    "\n",
    "theta = [0., 0.]\n",
    "iterations = 1500;\n",
    "alpha = 0.09;"
   ]
  },
  {
   "cell_type": "code",
   "execution_count": 451,
   "id": "3eac05b2",
   "metadata": {},
   "outputs": [
    {
     "name": "stdout",
     "output_type": "stream",
     "text": [
      "Final value of theta = [0.11299371169445978 0.3775300465417338]\n"
     ]
    }
   ],
   "source": [
    "theta, cost_history = gradient_descent(X1, y, theta, alpha, iterations)\n",
    "print('Final value of theta =', theta)"
   ]
  },
  {
   "cell_type": "code",
   "execution_count": 452,
   "id": "a8211575",
   "metadata": {},
   "outputs": [
    {
     "data": {
      "text/plain": [
       "<matplotlib.legend.Legend at 0x7f51d7bc04c0>"
      ]
     },
     "execution_count": 452,
     "metadata": {},
     "output_type": "execute_result"
    },
    {
     "data": {
      "image/png": "[encoded data removed]",
      "text/plain": [
       "<Figure size 432x288 with 1 Axes>"
      ]
     },
     "metadata": {
      "needs_background": "light"
     },
     "output_type": "display_data"
    }
   ],
   "source": [
    "plt.scatter(X1[:,1], y, color='red', marker= '+', label= 'Training Data')\n",
    "plt.plot(X1[:,1],X1.dot(theta), color='green', label='Linear Regression')\n",
    "plt.grid()\n",
    "plt.xlabel('Area')\n",
    "plt.ylabel('Price')\n",
    "plt.title('Linear Regression Fit for ')\n",
    "plt.legend() "
   ]
  },
  {
   "cell_type": "code",
   "execution_count": 453,
   "id": "a6f776ef",
   "metadata": {},
   "outputs": [
    {
     "data": {
      "text/plain": [
       "Text(0.5, 1.0, 'Convergence of gradient descent')"
      ]
     },
     "execution_count": 453,
     "metadata": {},
     "output_type": "execute_result"
    },
    {
     "data": {
      "image/png": "[encoded data removed]",
      "text/plain": [
       "<Figure size 432x288 with 1 Axes>"
      ]
     },
     "metadata": {
      "needs_background": "light"
     },
     "output_type": "display_data"
    }
   ],
   "source": [
    "plt.plot(range(1, iterations + 1),cost_history, color='blue')\n",
    "#plt.xlim(0, 20)\n",
    "plt.grid() \n",
    "plt.xlabel('Number of iterations')\n",
    "plt.ylabel('Cost (J)') \n",
    "plt.title('Convergence of gradient descent')"
   ]
  },
  {
   "cell_type": "code",
   "execution_count": null,
   "id": "20083994",
   "metadata": {},
   "outputs": [],
   "source": []
  }
 ],
 "metadata": {
  "kernelspec": {
   "display_name": "Python 3",
   "language": "python",
   "name": "python3"
  },
  "language_info": {
   "codemirror_mode": {
    "name": "ipython",
    "version": 3
   },
   "file_extension": ".py",
   "mimetype": "text/x-python",
   "name": "python",
   "nbconvert_exporter": "python",
   "pygments_lexer": "ipython3",
   "version": "3.8.8"
  }
 },
 "nbformat": 4,
 "nbformat_minor": 5
}
